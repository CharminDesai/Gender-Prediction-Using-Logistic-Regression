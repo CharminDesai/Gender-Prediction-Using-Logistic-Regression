{
 "cells": [
  {
   "cell_type": "markdown",
   "id": "60f71313",
   "metadata": {},
   "source": [
    "ADHERING TO ACADEMIC INTEGRITY POLICIES\n",
    "\n",
    "\"I certify that the code and data in this assignment were generated independently, \n",
    "using only the tools and resources defined in the course and that I did not receive \n",
    "any external help, coaching or contributions during the production of this work.\""
   ]
  },
  {
   "cell_type": "markdown",
   "id": "a38b1d0a",
   "metadata": {},
   "source": [
    "# PART2: PENGUINS Dataset"
   ]
  },
  {
   "cell_type": "code",
   "execution_count": 1,
   "id": "5562b10e",
   "metadata": {},
   "outputs": [],
   "source": [
    "import sys\n",
    "import numpy as np\n",
    "np.set_printoptions(threshold=sys.maxsize) # To print an entire numpy array/matrix if big in size. (not to have truncation)\n",
    "import random\n",
    "import pandas as pd\n",
    "import matplotlib.pyplot as plt\n",
    "%matplotlib inline\n",
    "pd.set_option(\"display.max_rows\",400)\n",
    "pd.set_option(\"display.max_columns\",15)"
   ]
  },
  {
   "cell_type": "code",
   "execution_count": 2,
   "id": "cec03921",
   "metadata": {},
   "outputs": [
    {
     "data": {
      "text/html": [
       "<div>\n",
       "<style scoped>\n",
       "    .dataframe tbody tr th:only-of-type {\n",
       "        vertical-align: middle;\n",
       "    }\n",
       "\n",
       "    .dataframe tbody tr th {\n",
       "        vertical-align: top;\n",
       "    }\n",
       "\n",
       "    .dataframe thead th {\n",
       "        text-align: right;\n",
       "    }\n",
       "</style>\n",
       "<table border=\"1\" class=\"dataframe\">\n",
       "  <thead>\n",
       "    <tr style=\"text-align: right;\">\n",
       "      <th></th>\n",
       "      <th>species</th>\n",
       "      <th>island</th>\n",
       "      <th>bill_length_mm</th>\n",
       "      <th>bill_depth_mm</th>\n",
       "      <th>flipper_length_mm</th>\n",
       "      <th>body_mass_g</th>\n",
       "      <th>sex</th>\n",
       "      <th>year</th>\n",
       "    </tr>\n",
       "  </thead>\n",
       "  <tbody>\n",
       "    <tr>\n",
       "      <th>0</th>\n",
       "      <td>Adelie</td>\n",
       "      <td>Torgersen</td>\n",
       "      <td>39.1</td>\n",
       "      <td>18.7</td>\n",
       "      <td>181.0</td>\n",
       "      <td>3750.0</td>\n",
       "      <td>male</td>\n",
       "      <td>2007</td>\n",
       "    </tr>\n",
       "    <tr>\n",
       "      <th>1</th>\n",
       "      <td>Adelie</td>\n",
       "      <td>Torgersen</td>\n",
       "      <td>39.5</td>\n",
       "      <td>17.4</td>\n",
       "      <td>186.0</td>\n",
       "      <td>3800.0</td>\n",
       "      <td>female</td>\n",
       "      <td>2007</td>\n",
       "    </tr>\n",
       "    <tr>\n",
       "      <th>2</th>\n",
       "      <td>Adelie</td>\n",
       "      <td>Torgersen</td>\n",
       "      <td>40.3</td>\n",
       "      <td>18.0</td>\n",
       "      <td>195.0</td>\n",
       "      <td>3250.0</td>\n",
       "      <td>female</td>\n",
       "      <td>2007</td>\n",
       "    </tr>\n",
       "    <tr>\n",
       "      <th>3</th>\n",
       "      <td>Adelie</td>\n",
       "      <td>Torgersen</td>\n",
       "      <td>NaN</td>\n",
       "      <td>NaN</td>\n",
       "      <td>NaN</td>\n",
       "      <td>NaN</td>\n",
       "      <td>NaN</td>\n",
       "      <td>2007</td>\n",
       "    </tr>\n",
       "    <tr>\n",
       "      <th>4</th>\n",
       "      <td>Adelie</td>\n",
       "      <td>Torgersen</td>\n",
       "      <td>36.7</td>\n",
       "      <td>19.3</td>\n",
       "      <td>193.0</td>\n",
       "      <td>3450.0</td>\n",
       "      <td>female</td>\n",
       "      <td>2007</td>\n",
       "    </tr>\n",
       "  </tbody>\n",
       "</table>\n",
       "</div>"
      ],
      "text/plain": [
       "  species     island  bill_length_mm  bill_depth_mm  flipper_length_mm  \\\n",
       "0  Adelie  Torgersen            39.1           18.7              181.0   \n",
       "1  Adelie  Torgersen            39.5           17.4              186.0   \n",
       "2  Adelie  Torgersen            40.3           18.0              195.0   \n",
       "3  Adelie  Torgersen             NaN            NaN                NaN   \n",
       "4  Adelie  Torgersen            36.7           19.3              193.0   \n",
       "\n",
       "   body_mass_g     sex  year  \n",
       "0       3750.0    male  2007  \n",
       "1       3800.0  female  2007  \n",
       "2       3250.0  female  2007  \n",
       "3          NaN     NaN  2007  \n",
       "4       3450.0  female  2007  "
      ]
     },
     "execution_count": 2,
     "metadata": {},
     "output_type": "execute_result"
    }
   ],
   "source": [
    "df3 = pd.read_csv(\"penguins.csv\")\n",
    "df3.head()"
   ]
  },
  {
   "cell_type": "markdown",
   "id": "6a954c83",
   "metadata": {},
   "source": [
    "MAIN CHARACTERISTICS AND STATISTICS"
   ]
  },
  {
   "cell_type": "code",
   "execution_count": 3,
   "id": "f583084f",
   "metadata": {},
   "outputs": [
    {
     "name": "stdout",
     "output_type": "stream",
     "text": [
      "df3.shape = (344, 8)\n"
     ]
    }
   ],
   "source": [
    "print(\"df3.shape =\",df3.shape)"
   ]
  },
  {
   "cell_type": "code",
   "execution_count": 4,
   "id": "fa701ffa",
   "metadata": {},
   "outputs": [
    {
     "data": {
      "text/plain": [
       "species               object\n",
       "island                object\n",
       "bill_length_mm       float64\n",
       "bill_depth_mm        float64\n",
       "flipper_length_mm    float64\n",
       "body_mass_g          float64\n",
       "sex                   object\n",
       "year                   int64\n",
       "dtype: object"
      ]
     },
     "execution_count": 4,
     "metadata": {},
     "output_type": "execute_result"
    }
   ],
   "source": [
    "df3.dtypes"
   ]
  },
  {
   "cell_type": "markdown",
   "id": "67f0e8d3",
   "metadata": {},
   "source": [
    "Converting the string data types to categorical datatypes"
   ]
  },
  {
   "cell_type": "code",
   "execution_count": 5,
   "id": "8f8e48b1",
   "metadata": {},
   "outputs": [],
   "source": [
    "df3['species'] = df3['species'].astype('category')\n",
    "df3['island'] = df3['island'].astype('category')\n",
    "df3['sex'] = df3['sex'].astype('category')"
   ]
  },
  {
   "cell_type": "code",
   "execution_count": 6,
   "id": "ceb4f600",
   "metadata": {},
   "outputs": [
    {
     "data": {
      "text/plain": [
       "species              category\n",
       "island               category\n",
       "bill_length_mm        float64\n",
       "bill_depth_mm         float64\n",
       "flipper_length_mm     float64\n",
       "body_mass_g           float64\n",
       "sex                  category\n",
       "year                    int64\n",
       "dtype: object"
      ]
     },
     "execution_count": 6,
     "metadata": {},
     "output_type": "execute_result"
    }
   ],
   "source": [
    "df3.dtypes"
   ]
  },
  {
   "cell_type": "code",
   "execution_count": 7,
   "id": "39065d2a",
   "metadata": {},
   "outputs": [
    {
     "data": {
      "text/html": [
       "<div>\n",
       "<style scoped>\n",
       "    .dataframe tbody tr th:only-of-type {\n",
       "        vertical-align: middle;\n",
       "    }\n",
       "\n",
       "    .dataframe tbody tr th {\n",
       "        vertical-align: top;\n",
       "    }\n",
       "\n",
       "    .dataframe thead th {\n",
       "        text-align: right;\n",
       "    }\n",
       "</style>\n",
       "<table border=\"1\" class=\"dataframe\">\n",
       "  <thead>\n",
       "    <tr style=\"text-align: right;\">\n",
       "      <th></th>\n",
       "      <th>bill_length_mm</th>\n",
       "      <th>bill_depth_mm</th>\n",
       "      <th>flipper_length_mm</th>\n",
       "      <th>body_mass_g</th>\n",
       "      <th>year</th>\n",
       "    </tr>\n",
       "  </thead>\n",
       "  <tbody>\n",
       "    <tr>\n",
       "      <th>count</th>\n",
       "      <td>342.000000</td>\n",
       "      <td>342.000000</td>\n",
       "      <td>342.000000</td>\n",
       "      <td>342.000000</td>\n",
       "      <td>344.000000</td>\n",
       "    </tr>\n",
       "    <tr>\n",
       "      <th>mean</th>\n",
       "      <td>43.921930</td>\n",
       "      <td>17.151170</td>\n",
       "      <td>200.915205</td>\n",
       "      <td>4201.754386</td>\n",
       "      <td>2008.029070</td>\n",
       "    </tr>\n",
       "    <tr>\n",
       "      <th>std</th>\n",
       "      <td>5.459584</td>\n",
       "      <td>1.974793</td>\n",
       "      <td>14.061714</td>\n",
       "      <td>801.954536</td>\n",
       "      <td>0.818356</td>\n",
       "    </tr>\n",
       "    <tr>\n",
       "      <th>min</th>\n",
       "      <td>32.100000</td>\n",
       "      <td>13.100000</td>\n",
       "      <td>172.000000</td>\n",
       "      <td>2700.000000</td>\n",
       "      <td>2007.000000</td>\n",
       "    </tr>\n",
       "    <tr>\n",
       "      <th>25%</th>\n",
       "      <td>39.225000</td>\n",
       "      <td>15.600000</td>\n",
       "      <td>190.000000</td>\n",
       "      <td>3550.000000</td>\n",
       "      <td>2007.000000</td>\n",
       "    </tr>\n",
       "    <tr>\n",
       "      <th>50%</th>\n",
       "      <td>44.450000</td>\n",
       "      <td>17.300000</td>\n",
       "      <td>197.000000</td>\n",
       "      <td>4050.000000</td>\n",
       "      <td>2008.000000</td>\n",
       "    </tr>\n",
       "    <tr>\n",
       "      <th>75%</th>\n",
       "      <td>48.500000</td>\n",
       "      <td>18.700000</td>\n",
       "      <td>213.000000</td>\n",
       "      <td>4750.000000</td>\n",
       "      <td>2009.000000</td>\n",
       "    </tr>\n",
       "    <tr>\n",
       "      <th>max</th>\n",
       "      <td>59.600000</td>\n",
       "      <td>21.500000</td>\n",
       "      <td>231.000000</td>\n",
       "      <td>6300.000000</td>\n",
       "      <td>2009.000000</td>\n",
       "    </tr>\n",
       "  </tbody>\n",
       "</table>\n",
       "</div>"
      ],
      "text/plain": [
       "       bill_length_mm  bill_depth_mm  flipper_length_mm  body_mass_g  \\\n",
       "count      342.000000     342.000000         342.000000   342.000000   \n",
       "mean        43.921930      17.151170         200.915205  4201.754386   \n",
       "std          5.459584       1.974793          14.061714   801.954536   \n",
       "min         32.100000      13.100000         172.000000  2700.000000   \n",
       "25%         39.225000      15.600000         190.000000  3550.000000   \n",
       "50%         44.450000      17.300000         197.000000  4050.000000   \n",
       "75%         48.500000      18.700000         213.000000  4750.000000   \n",
       "max         59.600000      21.500000         231.000000  6300.000000   \n",
       "\n",
       "              year  \n",
       "count   344.000000  \n",
       "mean   2008.029070  \n",
       "std       0.818356  \n",
       "min    2007.000000  \n",
       "25%    2007.000000  \n",
       "50%    2008.000000  \n",
       "75%    2009.000000  \n",
       "max    2009.000000  "
      ]
     },
     "execution_count": 7,
     "metadata": {},
     "output_type": "execute_result"
    }
   ],
   "source": [
    "df3.describe()"
   ]
  },
  {
   "cell_type": "markdown",
   "id": "e06fe0c4",
   "metadata": {},
   "source": [
    "PRINTING MINIMUM AND MAXIMUM VALUES OF EACH COLUMNS"
   ]
  },
  {
   "cell_type": "code",
   "execution_count": 8,
   "id": "7eece3cd",
   "metadata": {},
   "outputs": [
    {
     "name": "stdout",
     "output_type": "stream",
     "text": [
      "Minimum Value of 'bill length mm' =  32.1\n",
      "Maximum Value of 'bill length mm' =  59.6\n",
      "\n",
      "Minimum Value of 'bill depth mm' =  13.1\n",
      "Maximum Value of 'bill depthh mm' =  21.5\n",
      "\n",
      "Minimum Value of 'flipper length mm' =  172.0\n",
      "Maximum Value of 'flipper length mm' =  231.0\n",
      "\n",
      "Minimum Value of 'body mass g' =  2700.0\n",
      "Maximum Value of 'body mass g' =  6300.0\n"
     ]
    }
   ],
   "source": [
    "print(\"Minimum Value of 'bill length mm' = \",df3.bill_length_mm.min())\n",
    "print(\"Maximum Value of 'bill length mm' = \",df3.bill_length_mm.max())\n",
    "print()\n",
    "print(\"Minimum Value of 'bill depth mm' = \",df3.bill_depth_mm.min())\n",
    "print(\"Maximum Value of 'bill depthh mm' = \",df3.bill_depth_mm.max())\n",
    "print()\n",
    "print(\"Minimum Value of 'flipper length mm' = \",df3.flipper_length_mm.min())\n",
    "print(\"Maximum Value of 'flipper length mm' = \",df3.flipper_length_mm.max())\n",
    "print()\n",
    "print(\"Minimum Value of 'body mass g' = \",df3.body_mass_g.min())\n",
    "print(\"Maximum Value of 'body mass g' = \",df3.body_mass_g.max())"
   ]
  },
  {
   "cell_type": "code",
   "execution_count": 9,
   "id": "ba385294",
   "metadata": {},
   "outputs": [
    {
     "data": {
      "text/plain": [
       "species              344\n",
       "island               344\n",
       "bill_length_mm       342\n",
       "bill_depth_mm        342\n",
       "flipper_length_mm    342\n",
       "body_mass_g          342\n",
       "sex                  333\n",
       "year                 344\n",
       "dtype: int64"
      ]
     },
     "execution_count": 9,
     "metadata": {},
     "output_type": "execute_result"
    }
   ],
   "source": [
    "df3.count()"
   ]
  },
  {
   "cell_type": "code",
   "execution_count": 10,
   "id": "79ad2cd7",
   "metadata": {},
   "outputs": [
    {
     "data": {
      "text/plain": [
       "species                3\n",
       "island                 3\n",
       "bill_length_mm       164\n",
       "bill_depth_mm         80\n",
       "flipper_length_mm     55\n",
       "body_mass_g           94\n",
       "sex                    2\n",
       "year                   3\n",
       "dtype: int64"
      ]
     },
     "execution_count": 10,
     "metadata": {},
     "output_type": "execute_result"
    }
   ],
   "source": [
    "df3.nunique()"
   ]
  },
  {
   "cell_type": "markdown",
   "id": "b4b0b37b",
   "metadata": {},
   "source": [
    "SPECIES"
   ]
  },
  {
   "cell_type": "code",
   "execution_count": 11,
   "id": "72e8b14e",
   "metadata": {
    "scrolled": true
   },
   "outputs": [
    {
     "name": "stdout",
     "output_type": "stream",
     "text": [
      "Unique_SPECIES = ['Adelie', 'Gentoo', 'Chinstrap']\n",
      "Categories (3, object): ['Adelie', 'Chinstrap', 'Gentoo']\n",
      "\n",
      "Adelie       152\n",
      "Gentoo       124\n",
      "Chinstrap     68\n",
      "Name: species, dtype: int64\n"
     ]
    }
   ],
   "source": [
    "print(\"Unique_SPECIES =\",df3.species.unique())\n",
    "print()\n",
    "print(df3.species.value_counts()) # FREQUENCY OF OCCURENCE"
   ]
  },
  {
   "cell_type": "markdown",
   "id": "58c8ca5d",
   "metadata": {},
   "source": [
    "ISLAND"
   ]
  },
  {
   "cell_type": "code",
   "execution_count": 12,
   "id": "c2722a4e",
   "metadata": {},
   "outputs": [
    {
     "name": "stdout",
     "output_type": "stream",
     "text": [
      "Unique_ISLAND = ['Torgersen', 'Biscoe', 'Dream']\n",
      "Categories (3, object): ['Biscoe', 'Dream', 'Torgersen']\n",
      "\n",
      "Biscoe       168\n",
      "Dream        124\n",
      "Torgersen     52\n",
      "Name: island, dtype: int64\n"
     ]
    }
   ],
   "source": [
    "print(\"Unique_ISLAND =\",df3.island.unique())\n",
    "print()\n",
    "print(df3.island.value_counts()) # FREQUENCY OF OCCURENCE"
   ]
  },
  {
   "cell_type": "markdown",
   "id": "6d763fcd",
   "metadata": {},
   "source": [
    "SEX"
   ]
  },
  {
   "cell_type": "code",
   "execution_count": 13,
   "id": "498644dd",
   "metadata": {},
   "outputs": [
    {
     "name": "stdout",
     "output_type": "stream",
     "text": [
      "Unique_SEX = ['male', 'female', NaN]\n",
      "Categories (2, object): ['female', 'male']\n",
      "\n",
      "male      168\n",
      "female    165\n",
      "Name: sex, dtype: int64\n"
     ]
    }
   ],
   "source": [
    "print(\"Unique_SEX =\",df3.sex.unique())\n",
    "print()\n",
    "print(df3.sex.value_counts()) # FREQUENCY OF OCCURENCE"
   ]
  },
  {
   "cell_type": "markdown",
   "id": "c0bdf352",
   "metadata": {},
   "source": [
    "YEAR"
   ]
  },
  {
   "cell_type": "code",
   "execution_count": 14,
   "id": "9bedba5c",
   "metadata": {},
   "outputs": [
    {
     "name": "stdout",
     "output_type": "stream",
     "text": [
      "Unique_YEAR = [2007 2008 2009]\n",
      "\n",
      "2009    120\n",
      "2008    114\n",
      "2007    110\n",
      "Name: year, dtype: int64\n"
     ]
    }
   ],
   "source": [
    "print(\"Unique_YEAR =\",df3.year.unique())\n",
    "print()\n",
    "print(df3.year.value_counts()) # FREQUENCY OF OCCURENCE"
   ]
  },
  {
   "cell_type": "markdown",
   "id": "51ac7a0e",
   "metadata": {},
   "source": [
    "DATA PREPROCESSING"
   ]
  },
  {
   "cell_type": "code",
   "execution_count": 15,
   "id": "54c532f5",
   "metadata": {},
   "outputs": [],
   "source": [
    "df3['body_mass_g'] = df3['body_mass_g']/1000\n",
    "df3 = df3.rename(columns={\"body_mass_g\":\"body_mass_kg\"})"
   ]
  },
  {
   "cell_type": "code",
   "execution_count": 16,
   "id": "8d1cce0a",
   "metadata": {},
   "outputs": [
    {
     "data": {
      "text/html": [
       "<div>\n",
       "<style scoped>\n",
       "    .dataframe tbody tr th:only-of-type {\n",
       "        vertical-align: middle;\n",
       "    }\n",
       "\n",
       "    .dataframe tbody tr th {\n",
       "        vertical-align: top;\n",
       "    }\n",
       "\n",
       "    .dataframe thead th {\n",
       "        text-align: right;\n",
       "    }\n",
       "</style>\n",
       "<table border=\"1\" class=\"dataframe\">\n",
       "  <thead>\n",
       "    <tr style=\"text-align: right;\">\n",
       "      <th></th>\n",
       "      <th>species</th>\n",
       "      <th>island</th>\n",
       "      <th>bill_length_mm</th>\n",
       "      <th>bill_depth_mm</th>\n",
       "      <th>flipper_length_mm</th>\n",
       "      <th>body_mass_kg</th>\n",
       "      <th>sex</th>\n",
       "      <th>year</th>\n",
       "    </tr>\n",
       "  </thead>\n",
       "  <tbody>\n",
       "    <tr>\n",
       "      <th>0</th>\n",
       "      <td>Adelie</td>\n",
       "      <td>Torgersen</td>\n",
       "      <td>39.1</td>\n",
       "      <td>18.7</td>\n",
       "      <td>181.0</td>\n",
       "      <td>3.75</td>\n",
       "      <td>male</td>\n",
       "      <td>2007</td>\n",
       "    </tr>\n",
       "    <tr>\n",
       "      <th>1</th>\n",
       "      <td>Adelie</td>\n",
       "      <td>Torgersen</td>\n",
       "      <td>39.5</td>\n",
       "      <td>17.4</td>\n",
       "      <td>186.0</td>\n",
       "      <td>3.80</td>\n",
       "      <td>female</td>\n",
       "      <td>2007</td>\n",
       "    </tr>\n",
       "    <tr>\n",
       "      <th>2</th>\n",
       "      <td>Adelie</td>\n",
       "      <td>Torgersen</td>\n",
       "      <td>40.3</td>\n",
       "      <td>18.0</td>\n",
       "      <td>195.0</td>\n",
       "      <td>3.25</td>\n",
       "      <td>female</td>\n",
       "      <td>2007</td>\n",
       "    </tr>\n",
       "    <tr>\n",
       "      <th>3</th>\n",
       "      <td>Adelie</td>\n",
       "      <td>Torgersen</td>\n",
       "      <td>NaN</td>\n",
       "      <td>NaN</td>\n",
       "      <td>NaN</td>\n",
       "      <td>NaN</td>\n",
       "      <td>NaN</td>\n",
       "      <td>2007</td>\n",
       "    </tr>\n",
       "    <tr>\n",
       "      <th>4</th>\n",
       "      <td>Adelie</td>\n",
       "      <td>Torgersen</td>\n",
       "      <td>36.7</td>\n",
       "      <td>19.3</td>\n",
       "      <td>193.0</td>\n",
       "      <td>3.45</td>\n",
       "      <td>female</td>\n",
       "      <td>2007</td>\n",
       "    </tr>\n",
       "  </tbody>\n",
       "</table>\n",
       "</div>"
      ],
      "text/plain": [
       "  species     island  bill_length_mm  bill_depth_mm  flipper_length_mm  \\\n",
       "0  Adelie  Torgersen            39.1           18.7              181.0   \n",
       "1  Adelie  Torgersen            39.5           17.4              186.0   \n",
       "2  Adelie  Torgersen            40.3           18.0              195.0   \n",
       "3  Adelie  Torgersen             NaN            NaN                NaN   \n",
       "4  Adelie  Torgersen            36.7           19.3              193.0   \n",
       "\n",
       "   body_mass_kg     sex  year  \n",
       "0          3.75    male  2007  \n",
       "1          3.80  female  2007  \n",
       "2          3.25  female  2007  \n",
       "3           NaN     NaN  2007  \n",
       "4          3.45  female  2007  "
      ]
     },
     "execution_count": 16,
     "metadata": {},
     "output_type": "execute_result"
    }
   ],
   "source": [
    "df3.head()"
   ]
  },
  {
   "cell_type": "code",
   "execution_count": 17,
   "id": "cd41f79f",
   "metadata": {},
   "outputs": [
    {
     "name": "stderr",
     "output_type": "stream",
     "text": [
      "C:\\Users\\desai\\AppData\\Local\\Temp/ipykernel_2156/1781351594.py:1: FutureWarning: In a future version of pandas all arguments of DataFrame.drop except for the argument 'labels' will be keyword-only\n",
      "  df3 = df3.drop(['year'], 1) # THIS FEATURE DOES NOT CONTRIBUTE TO IN ANYWAY\n"
     ]
    }
   ],
   "source": [
    "df3 = df3.drop(['year'], 1) # THIS FEATURE DOES NOT CONTRIBUTE TO IN ANYWAY"
   ]
  },
  {
   "cell_type": "code",
   "execution_count": 18,
   "id": "13ad3322",
   "metadata": {},
   "outputs": [
    {
     "data": {
      "text/plain": [
       "species              False\n",
       "island               False\n",
       "bill_length_mm        True\n",
       "bill_depth_mm         True\n",
       "flipper_length_mm     True\n",
       "body_mass_kg          True\n",
       "sex                   True\n",
       "dtype: bool"
      ]
     },
     "execution_count": 18,
     "metadata": {},
     "output_type": "execute_result"
    }
   ],
   "source": [
    "df3.isna().any()"
   ]
  },
  {
   "cell_type": "code",
   "execution_count": 19,
   "id": "619868d4",
   "metadata": {},
   "outputs": [
    {
     "data": {
      "text/plain": [
       "species               0\n",
       "island                0\n",
       "bill_length_mm        2\n",
       "bill_depth_mm         2\n",
       "flipper_length_mm     2\n",
       "body_mass_kg          2\n",
       "sex                  11\n",
       "dtype: int64"
      ]
     },
     "execution_count": 19,
     "metadata": {},
     "output_type": "execute_result"
    }
   ],
   "source": [
    "df3.isna().sum()"
   ]
  },
  {
   "cell_type": "code",
   "execution_count": 20,
   "id": "0870a808",
   "metadata": {},
   "outputs": [
    {
     "data": {
      "text/plain": [
       "(333, 7)"
      ]
     },
     "execution_count": 20,
     "metadata": {},
     "output_type": "execute_result"
    }
   ],
   "source": [
    "df3 = df3.dropna() # HENCE WE DROP THE NULL ENTRIES\n",
    "df3.shape"
   ]
  },
  {
   "cell_type": "code",
   "execution_count": 21,
   "id": "a0d07069",
   "metadata": {},
   "outputs": [
    {
     "data": {
      "text/html": [
       "<div>\n",
       "<style scoped>\n",
       "    .dataframe tbody tr th:only-of-type {\n",
       "        vertical-align: middle;\n",
       "    }\n",
       "\n",
       "    .dataframe tbody tr th {\n",
       "        vertical-align: top;\n",
       "    }\n",
       "\n",
       "    .dataframe thead th {\n",
       "        text-align: right;\n",
       "    }\n",
       "</style>\n",
       "<table border=\"1\" class=\"dataframe\">\n",
       "  <thead>\n",
       "    <tr style=\"text-align: right;\">\n",
       "      <th></th>\n",
       "      <th>species</th>\n",
       "      <th>island</th>\n",
       "      <th>bill_length_mm</th>\n",
       "      <th>bill_depth_mm</th>\n",
       "      <th>flipper_length_mm</th>\n",
       "      <th>body_mass_kg</th>\n",
       "      <th>sex</th>\n",
       "    </tr>\n",
       "  </thead>\n",
       "  <tbody>\n",
       "    <tr>\n",
       "      <th>328</th>\n",
       "      <td>Chinstrap</td>\n",
       "      <td>Dream</td>\n",
       "      <td>55.8</td>\n",
       "      <td>19.8</td>\n",
       "      <td>207.0</td>\n",
       "      <td>4.000</td>\n",
       "      <td>male</td>\n",
       "    </tr>\n",
       "    <tr>\n",
       "      <th>329</th>\n",
       "      <td>Chinstrap</td>\n",
       "      <td>Dream</td>\n",
       "      <td>43.5</td>\n",
       "      <td>18.1</td>\n",
       "      <td>202.0</td>\n",
       "      <td>3.400</td>\n",
       "      <td>female</td>\n",
       "    </tr>\n",
       "    <tr>\n",
       "      <th>330</th>\n",
       "      <td>Chinstrap</td>\n",
       "      <td>Dream</td>\n",
       "      <td>49.6</td>\n",
       "      <td>18.2</td>\n",
       "      <td>193.0</td>\n",
       "      <td>3.775</td>\n",
       "      <td>male</td>\n",
       "    </tr>\n",
       "    <tr>\n",
       "      <th>331</th>\n",
       "      <td>Chinstrap</td>\n",
       "      <td>Dream</td>\n",
       "      <td>50.8</td>\n",
       "      <td>19.0</td>\n",
       "      <td>210.0</td>\n",
       "      <td>4.100</td>\n",
       "      <td>male</td>\n",
       "    </tr>\n",
       "    <tr>\n",
       "      <th>332</th>\n",
       "      <td>Chinstrap</td>\n",
       "      <td>Dream</td>\n",
       "      <td>50.2</td>\n",
       "      <td>18.7</td>\n",
       "      <td>198.0</td>\n",
       "      <td>3.775</td>\n",
       "      <td>female</td>\n",
       "    </tr>\n",
       "  </tbody>\n",
       "</table>\n",
       "</div>"
      ],
      "text/plain": [
       "       species island  bill_length_mm  bill_depth_mm  flipper_length_mm  \\\n",
       "328  Chinstrap  Dream            55.8           19.8              207.0   \n",
       "329  Chinstrap  Dream            43.5           18.1              202.0   \n",
       "330  Chinstrap  Dream            49.6           18.2              193.0   \n",
       "331  Chinstrap  Dream            50.8           19.0              210.0   \n",
       "332  Chinstrap  Dream            50.2           18.7              198.0   \n",
       "\n",
       "     body_mass_kg     sex  \n",
       "328         4.000    male  \n",
       "329         3.400  female  \n",
       "330         3.775    male  \n",
       "331         4.100    male  \n",
       "332         3.775  female  "
      ]
     },
     "execution_count": 21,
     "metadata": {},
     "output_type": "execute_result"
    }
   ],
   "source": [
    "df3 = df3.reset_index(drop=True) # This resets the index, an important command\n",
    "df3.tail()"
   ]
  },
  {
   "cell_type": "code",
   "execution_count": 22,
   "id": "d8fae748",
   "metadata": {},
   "outputs": [
    {
     "name": "stdout",
     "output_type": "stream",
     "text": [
      "Any duplicate entries = False\n",
      "Total duplicate entries = 0\n"
     ]
    }
   ],
   "source": [
    "print(\"Any duplicate entries =\",df3.duplicated().any(axis=0))\n",
    "print(\"Total duplicate entries =\", df3.duplicated().sum(axis=0))"
   ]
  },
  {
   "cell_type": "markdown",
   "id": "08b7b81e",
   "metadata": {},
   "source": [
    "# LOGISTIC REGRESSION MODEL (GENDER PREDICTION)"
   ]
  },
  {
   "cell_type": "code",
   "execution_count": 23,
   "id": "4942f220",
   "metadata": {},
   "outputs": [
    {
     "data": {
      "text/html": [
       "<div>\n",
       "<style scoped>\n",
       "    .dataframe tbody tr th:only-of-type {\n",
       "        vertical-align: middle;\n",
       "    }\n",
       "\n",
       "    .dataframe tbody tr th {\n",
       "        vertical-align: top;\n",
       "    }\n",
       "\n",
       "    .dataframe thead th {\n",
       "        text-align: right;\n",
       "    }\n",
       "</style>\n",
       "<table border=\"1\" class=\"dataframe\">\n",
       "  <thead>\n",
       "    <tr style=\"text-align: right;\">\n",
       "      <th></th>\n",
       "      <th>species</th>\n",
       "      <th>island</th>\n",
       "      <th>bill_length_mm</th>\n",
       "      <th>bill_depth_mm</th>\n",
       "      <th>flipper_length_mm</th>\n",
       "      <th>body_mass_kg</th>\n",
       "      <th>sex</th>\n",
       "    </tr>\n",
       "  </thead>\n",
       "  <tbody>\n",
       "    <tr>\n",
       "      <th>0</th>\n",
       "      <td>Adelie</td>\n",
       "      <td>Torgersen</td>\n",
       "      <td>39.1</td>\n",
       "      <td>18.7</td>\n",
       "      <td>181.0</td>\n",
       "      <td>3.75</td>\n",
       "      <td>male</td>\n",
       "    </tr>\n",
       "    <tr>\n",
       "      <th>1</th>\n",
       "      <td>Adelie</td>\n",
       "      <td>Torgersen</td>\n",
       "      <td>39.5</td>\n",
       "      <td>17.4</td>\n",
       "      <td>186.0</td>\n",
       "      <td>3.80</td>\n",
       "      <td>female</td>\n",
       "    </tr>\n",
       "    <tr>\n",
       "      <th>2</th>\n",
       "      <td>Adelie</td>\n",
       "      <td>Torgersen</td>\n",
       "      <td>40.3</td>\n",
       "      <td>18.0</td>\n",
       "      <td>195.0</td>\n",
       "      <td>3.25</td>\n",
       "      <td>female</td>\n",
       "    </tr>\n",
       "    <tr>\n",
       "      <th>3</th>\n",
       "      <td>Adelie</td>\n",
       "      <td>Torgersen</td>\n",
       "      <td>36.7</td>\n",
       "      <td>19.3</td>\n",
       "      <td>193.0</td>\n",
       "      <td>3.45</td>\n",
       "      <td>female</td>\n",
       "    </tr>\n",
       "    <tr>\n",
       "      <th>4</th>\n",
       "      <td>Adelie</td>\n",
       "      <td>Torgersen</td>\n",
       "      <td>39.3</td>\n",
       "      <td>20.6</td>\n",
       "      <td>190.0</td>\n",
       "      <td>3.65</td>\n",
       "      <td>male</td>\n",
       "    </tr>\n",
       "  </tbody>\n",
       "</table>\n",
       "</div>"
      ],
      "text/plain": [
       "  species     island  bill_length_mm  bill_depth_mm  flipper_length_mm  \\\n",
       "0  Adelie  Torgersen            39.1           18.7              181.0   \n",
       "1  Adelie  Torgersen            39.5           17.4              186.0   \n",
       "2  Adelie  Torgersen            40.3           18.0              195.0   \n",
       "3  Adelie  Torgersen            36.7           19.3              193.0   \n",
       "4  Adelie  Torgersen            39.3           20.6              190.0   \n",
       "\n",
       "   body_mass_kg     sex  \n",
       "0          3.75    male  \n",
       "1          3.80  female  \n",
       "2          3.25  female  \n",
       "3          3.45  female  \n",
       "4          3.65    male  "
      ]
     },
     "execution_count": 23,
     "metadata": {},
     "output_type": "execute_result"
    }
   ],
   "source": [
    "df3.head()"
   ]
  },
  {
   "cell_type": "code",
   "execution_count": 24,
   "id": "35992ac6",
   "metadata": {},
   "outputs": [
    {
     "data": {
      "text/plain": [
       "(333, 7)"
      ]
     },
     "execution_count": 24,
     "metadata": {},
     "output_type": "execute_result"
    }
   ],
   "source": [
    "df3.shape"
   ]
  },
  {
   "cell_type": "code",
   "execution_count": 25,
   "id": "72797638",
   "metadata": {},
   "outputs": [
    {
     "data": {
      "text/html": [
       "<div>\n",
       "<style scoped>\n",
       "    .dataframe tbody tr th:only-of-type {\n",
       "        vertical-align: middle;\n",
       "    }\n",
       "\n",
       "    .dataframe tbody tr th {\n",
       "        vertical-align: top;\n",
       "    }\n",
       "\n",
       "    .dataframe thead th {\n",
       "        text-align: right;\n",
       "    }\n",
       "</style>\n",
       "<table border=\"1\" class=\"dataframe\">\n",
       "  <thead>\n",
       "    <tr style=\"text-align: right;\">\n",
       "      <th></th>\n",
       "      <th>bill_length_mm</th>\n",
       "      <th>bill_depth_mm</th>\n",
       "      <th>flipper_length_mm</th>\n",
       "      <th>body_mass_kg</th>\n",
       "    </tr>\n",
       "  </thead>\n",
       "  <tbody>\n",
       "    <tr>\n",
       "      <th>count</th>\n",
       "      <td>333.000000</td>\n",
       "      <td>333.000000</td>\n",
       "      <td>333.000000</td>\n",
       "      <td>333.000000</td>\n",
       "    </tr>\n",
       "    <tr>\n",
       "      <th>mean</th>\n",
       "      <td>43.992793</td>\n",
       "      <td>17.164865</td>\n",
       "      <td>200.966967</td>\n",
       "      <td>4.207057</td>\n",
       "    </tr>\n",
       "    <tr>\n",
       "      <th>std</th>\n",
       "      <td>5.468668</td>\n",
       "      <td>1.969235</td>\n",
       "      <td>14.015765</td>\n",
       "      <td>0.805216</td>\n",
       "    </tr>\n",
       "    <tr>\n",
       "      <th>min</th>\n",
       "      <td>32.100000</td>\n",
       "      <td>13.100000</td>\n",
       "      <td>172.000000</td>\n",
       "      <td>2.700000</td>\n",
       "    </tr>\n",
       "    <tr>\n",
       "      <th>25%</th>\n",
       "      <td>39.500000</td>\n",
       "      <td>15.600000</td>\n",
       "      <td>190.000000</td>\n",
       "      <td>3.550000</td>\n",
       "    </tr>\n",
       "    <tr>\n",
       "      <th>50%</th>\n",
       "      <td>44.500000</td>\n",
       "      <td>17.300000</td>\n",
       "      <td>197.000000</td>\n",
       "      <td>4.050000</td>\n",
       "    </tr>\n",
       "    <tr>\n",
       "      <th>75%</th>\n",
       "      <td>48.600000</td>\n",
       "      <td>18.700000</td>\n",
       "      <td>213.000000</td>\n",
       "      <td>4.775000</td>\n",
       "    </tr>\n",
       "    <tr>\n",
       "      <th>max</th>\n",
       "      <td>59.600000</td>\n",
       "      <td>21.500000</td>\n",
       "      <td>231.000000</td>\n",
       "      <td>6.300000</td>\n",
       "    </tr>\n",
       "  </tbody>\n",
       "</table>\n",
       "</div>"
      ],
      "text/plain": [
       "       bill_length_mm  bill_depth_mm  flipper_length_mm  body_mass_kg\n",
       "count      333.000000     333.000000         333.000000    333.000000\n",
       "mean        43.992793      17.164865         200.966967      4.207057\n",
       "std          5.468668       1.969235          14.015765      0.805216\n",
       "min         32.100000      13.100000         172.000000      2.700000\n",
       "25%         39.500000      15.600000         190.000000      3.550000\n",
       "50%         44.500000      17.300000         197.000000      4.050000\n",
       "75%         48.600000      18.700000         213.000000      4.775000\n",
       "max         59.600000      21.500000         231.000000      6.300000"
      ]
     },
     "execution_count": 25,
     "metadata": {},
     "output_type": "execute_result"
    }
   ],
   "source": [
    "df3.describe()"
   ]
  },
  {
   "cell_type": "markdown",
   "id": "e08d8b51",
   "metadata": {},
   "source": [
    "NORMALIZING NON-CATEGORICAL COLUMNS (RESCALING THEM IN THE LIMITS 0 TO 1)"
   ]
  },
  {
   "cell_type": "code",
   "execution_count": 26,
   "id": "fde1b5be",
   "metadata": {},
   "outputs": [
    {
     "name": "stdout",
     "output_type": "stream",
     "text": [
      "Min of bill_length_mm = 32.1\n",
      "Max of bill_length_mm = 59.6\n",
      "\n",
      "Min of bill_depth_mm = 13.1\n",
      "Max of bill_depth_mm = 21.5\n",
      "\n",
      "Min of flipper_length_mm = 172.0\n",
      "Max of flipper_length_mm = 231.0\n",
      "\n",
      "Min of body_mass_kg = 2.7\n",
      "Max of body_mass_kg = 6.3\n"
     ]
    }
   ],
   "source": [
    "print(\"Min of bill_length_mm =\",df3.bill_length_mm.min())\n",
    "print(\"Max of bill_length_mm =\",df3.bill_length_mm.max())\n",
    "print()\n",
    "print(\"Min of bill_depth_mm =\",df3.bill_depth_mm.min())\n",
    "print(\"Max of bill_depth_mm =\",df3.bill_depth_mm.max())\n",
    "print()\n",
    "print(\"Min of flipper_length_mm =\",df3.flipper_length_mm.min())\n",
    "print(\"Max of flipper_length_mm =\",df3.flipper_length_mm.max())\n",
    "print()\n",
    "print(\"Min of body_mass_kg =\",df3.body_mass_kg.min())\n",
    "print(\"Max of body_mass_kg =\",df3.body_mass_kg.max())"
   ]
  },
  {
   "cell_type": "code",
   "execution_count": 27,
   "id": "8a355dfa",
   "metadata": {},
   "outputs": [],
   "source": [
    "def maps(feature):\n",
    "    trial = []\n",
    "    for val in feature: \n",
    "        maps_val = (val/feature.max())*1\n",
    "        trial.append(maps_val)\n",
    "    return trial"
   ]
  },
  {
   "cell_type": "code",
   "execution_count": 28,
   "id": "53af06ad",
   "metadata": {},
   "outputs": [],
   "source": [
    "df3['BL_mm(0-1)'] = maps(df3.bill_length_mm)"
   ]
  },
  {
   "cell_type": "code",
   "execution_count": 29,
   "id": "78bd1e8e",
   "metadata": {},
   "outputs": [],
   "source": [
    "df3['BD_mm(0-1)'] = maps(df3.bill_depth_mm)"
   ]
  },
  {
   "cell_type": "code",
   "execution_count": 30,
   "id": "18702f6e",
   "metadata": {},
   "outputs": [],
   "source": [
    "df3['FL_mm(0-1)'] = maps(df3.flipper_length_mm)"
   ]
  },
  {
   "cell_type": "code",
   "execution_count": 31,
   "id": "05070998",
   "metadata": {},
   "outputs": [],
   "source": [
    "df3['BM_kg(0-1)'] = maps(df3.body_mass_kg)"
   ]
  },
  {
   "cell_type": "code",
   "execution_count": 32,
   "id": "d9c7bdd9",
   "metadata": {},
   "outputs": [],
   "source": [
    "df3 = df3.drop([\"bill_length_mm\",\"bill_depth_mm\",\"flipper_length_mm\",\"body_mass_kg\"], axis = 1)"
   ]
  },
  {
   "cell_type": "code",
   "execution_count": 33,
   "id": "e2b50ae9",
   "metadata": {},
   "outputs": [
    {
     "data": {
      "text/html": [
       "<div>\n",
       "<style scoped>\n",
       "    .dataframe tbody tr th:only-of-type {\n",
       "        vertical-align: middle;\n",
       "    }\n",
       "\n",
       "    .dataframe tbody tr th {\n",
       "        vertical-align: top;\n",
       "    }\n",
       "\n",
       "    .dataframe thead th {\n",
       "        text-align: right;\n",
       "    }\n",
       "</style>\n",
       "<table border=\"1\" class=\"dataframe\">\n",
       "  <thead>\n",
       "    <tr style=\"text-align: right;\">\n",
       "      <th></th>\n",
       "      <th>species</th>\n",
       "      <th>island</th>\n",
       "      <th>sex</th>\n",
       "      <th>BL_mm(0-1)</th>\n",
       "      <th>BD_mm(0-1)</th>\n",
       "      <th>FL_mm(0-1)</th>\n",
       "      <th>BM_kg(0-1)</th>\n",
       "    </tr>\n",
       "  </thead>\n",
       "  <tbody>\n",
       "    <tr>\n",
       "      <th>0</th>\n",
       "      <td>Adelie</td>\n",
       "      <td>Torgersen</td>\n",
       "      <td>male</td>\n",
       "      <td>0.656040</td>\n",
       "      <td>0.869767</td>\n",
       "      <td>0.783550</td>\n",
       "      <td>0.595238</td>\n",
       "    </tr>\n",
       "    <tr>\n",
       "      <th>1</th>\n",
       "      <td>Adelie</td>\n",
       "      <td>Torgersen</td>\n",
       "      <td>female</td>\n",
       "      <td>0.662752</td>\n",
       "      <td>0.809302</td>\n",
       "      <td>0.805195</td>\n",
       "      <td>0.603175</td>\n",
       "    </tr>\n",
       "    <tr>\n",
       "      <th>2</th>\n",
       "      <td>Adelie</td>\n",
       "      <td>Torgersen</td>\n",
       "      <td>female</td>\n",
       "      <td>0.676174</td>\n",
       "      <td>0.837209</td>\n",
       "      <td>0.844156</td>\n",
       "      <td>0.515873</td>\n",
       "    </tr>\n",
       "    <tr>\n",
       "      <th>3</th>\n",
       "      <td>Adelie</td>\n",
       "      <td>Torgersen</td>\n",
       "      <td>female</td>\n",
       "      <td>0.615772</td>\n",
       "      <td>0.897674</td>\n",
       "      <td>0.835498</td>\n",
       "      <td>0.547619</td>\n",
       "    </tr>\n",
       "    <tr>\n",
       "      <th>4</th>\n",
       "      <td>Adelie</td>\n",
       "      <td>Torgersen</td>\n",
       "      <td>male</td>\n",
       "      <td>0.659396</td>\n",
       "      <td>0.958140</td>\n",
       "      <td>0.822511</td>\n",
       "      <td>0.579365</td>\n",
       "    </tr>\n",
       "  </tbody>\n",
       "</table>\n",
       "</div>"
      ],
      "text/plain": [
       "  species     island     sex  BL_mm(0-1)  BD_mm(0-1)  FL_mm(0-1)  BM_kg(0-1)\n",
       "0  Adelie  Torgersen    male    0.656040    0.869767    0.783550    0.595238\n",
       "1  Adelie  Torgersen  female    0.662752    0.809302    0.805195    0.603175\n",
       "2  Adelie  Torgersen  female    0.676174    0.837209    0.844156    0.515873\n",
       "3  Adelie  Torgersen  female    0.615772    0.897674    0.835498    0.547619\n",
       "4  Adelie  Torgersen    male    0.659396    0.958140    0.822511    0.579365"
      ]
     },
     "execution_count": 33,
     "metadata": {},
     "output_type": "execute_result"
    }
   ],
   "source": [
    "df3.head()"
   ]
  },
  {
   "cell_type": "code",
   "execution_count": 34,
   "id": "bad65f23",
   "metadata": {},
   "outputs": [
    {
     "data": {
      "text/html": [
       "<div>\n",
       "<style scoped>\n",
       "    .dataframe tbody tr th:only-of-type {\n",
       "        vertical-align: middle;\n",
       "    }\n",
       "\n",
       "    .dataframe tbody tr th {\n",
       "        vertical-align: top;\n",
       "    }\n",
       "\n",
       "    .dataframe thead th {\n",
       "        text-align: right;\n",
       "    }\n",
       "</style>\n",
       "<table border=\"1\" class=\"dataframe\">\n",
       "  <thead>\n",
       "    <tr style=\"text-align: right;\">\n",
       "      <th></th>\n",
       "      <th>BL_mm(0-1)</th>\n",
       "      <th>BD_mm(0-1)</th>\n",
       "      <th>FL_mm(0-1)</th>\n",
       "      <th>BM_kg(0-1)</th>\n",
       "    </tr>\n",
       "  </thead>\n",
       "  <tbody>\n",
       "    <tr>\n",
       "      <th>count</th>\n",
       "      <td>333.000000</td>\n",
       "      <td>333.000000</td>\n",
       "      <td>333.000000</td>\n",
       "      <td>333.000000</td>\n",
       "    </tr>\n",
       "    <tr>\n",
       "      <th>mean</th>\n",
       "      <td>0.738134</td>\n",
       "      <td>0.798366</td>\n",
       "      <td>0.869987</td>\n",
       "      <td>0.667787</td>\n",
       "    </tr>\n",
       "    <tr>\n",
       "      <th>std</th>\n",
       "      <td>0.091756</td>\n",
       "      <td>0.091592</td>\n",
       "      <td>0.060674</td>\n",
       "      <td>0.127812</td>\n",
       "    </tr>\n",
       "    <tr>\n",
       "      <th>min</th>\n",
       "      <td>0.538591</td>\n",
       "      <td>0.609302</td>\n",
       "      <td>0.744589</td>\n",
       "      <td>0.428571</td>\n",
       "    </tr>\n",
       "    <tr>\n",
       "      <th>25%</th>\n",
       "      <td>0.662752</td>\n",
       "      <td>0.725581</td>\n",
       "      <td>0.822511</td>\n",
       "      <td>0.563492</td>\n",
       "    </tr>\n",
       "    <tr>\n",
       "      <th>50%</th>\n",
       "      <td>0.746644</td>\n",
       "      <td>0.804651</td>\n",
       "      <td>0.852814</td>\n",
       "      <td>0.642857</td>\n",
       "    </tr>\n",
       "    <tr>\n",
       "      <th>75%</th>\n",
       "      <td>0.815436</td>\n",
       "      <td>0.869767</td>\n",
       "      <td>0.922078</td>\n",
       "      <td>0.757937</td>\n",
       "    </tr>\n",
       "    <tr>\n",
       "      <th>max</th>\n",
       "      <td>1.000000</td>\n",
       "      <td>1.000000</td>\n",
       "      <td>1.000000</td>\n",
       "      <td>1.000000</td>\n",
       "    </tr>\n",
       "  </tbody>\n",
       "</table>\n",
       "</div>"
      ],
      "text/plain": [
       "       BL_mm(0-1)  BD_mm(0-1)  FL_mm(0-1)  BM_kg(0-1)\n",
       "count  333.000000  333.000000  333.000000  333.000000\n",
       "mean     0.738134    0.798366    0.869987    0.667787\n",
       "std      0.091756    0.091592    0.060674    0.127812\n",
       "min      0.538591    0.609302    0.744589    0.428571\n",
       "25%      0.662752    0.725581    0.822511    0.563492\n",
       "50%      0.746644    0.804651    0.852814    0.642857\n",
       "75%      0.815436    0.869767    0.922078    0.757937\n",
       "max      1.000000    1.000000    1.000000    1.000000"
      ]
     },
     "execution_count": 34,
     "metadata": {},
     "output_type": "execute_result"
    }
   ],
   "source": [
    "df3.describe()"
   ]
  },
  {
   "cell_type": "markdown",
   "id": "7ae20f54",
   "metadata": {},
   "source": [
    "CONVERTING STRING DATATYPES TO CATEGORICAL DATATYPES"
   ]
  },
  {
   "cell_type": "code",
   "execution_count": 35,
   "id": "1c66f243",
   "metadata": {},
   "outputs": [],
   "source": [
    "def species_CTG(feature):\n",
    "    species_ctg = []\n",
    "    for name in feature: \n",
    "        if (name == 'Adelie'):\n",
    "            species_ctg.append(1)\n",
    "        elif (name == 'Gentoo'):\n",
    "            species_ctg.append(2)\n",
    "        elif (name == 'Chinstrap'):\n",
    "            species_ctg.append(3)\n",
    "    return species_ctg"
   ]
  },
  {
   "cell_type": "code",
   "execution_count": 36,
   "id": "d8ae006c",
   "metadata": {},
   "outputs": [],
   "source": [
    "df3['species_ctg'] = species_CTG(df3.species)"
   ]
  },
  {
   "cell_type": "code",
   "execution_count": 37,
   "id": "f1f19f7c",
   "metadata": {},
   "outputs": [],
   "source": [
    "def island_CTG(feature):\n",
    "    island_ctg = []\n",
    "    for name in feature: \n",
    "        if (name == 'Biscoe'):\n",
    "            island_ctg.append(1)\n",
    "        elif (name == 'Dream'):\n",
    "            island_ctg.append(2)\n",
    "        elif (name == 'Torgersen'):\n",
    "            island_ctg.append(3)\n",
    "    return island_ctg"
   ]
  },
  {
   "cell_type": "code",
   "execution_count": 38,
   "id": "8f61bad0",
   "metadata": {},
   "outputs": [],
   "source": [
    "df3['island_ctg'] = island_CTG(df3.island)"
   ]
  },
  {
   "cell_type": "code",
   "execution_count": 39,
   "id": "b0bd9f4a",
   "metadata": {},
   "outputs": [],
   "source": [
    "sex_list = df3['sex'].tolist()\n",
    "\n",
    "binary_sex = []\n",
    "for i in sex_list:\n",
    "    if (i == 'male'):\n",
    "        binary_sex.append(1)\n",
    "    elif (i == 'female'):\n",
    "        binary_sex.append(-1)\n",
    "binary_sex = pd.DataFrame(binary_sex)\n",
    "\n",
    "df3['binary_sex'] = binary_sex"
   ]
  },
  {
   "cell_type": "markdown",
   "id": "66b28970",
   "metadata": {},
   "source": [
    "MALE = 1\n",
    "\n",
    "FEMALE = -1"
   ]
  },
  {
   "cell_type": "code",
   "execution_count": 40,
   "id": "736fb9ed",
   "metadata": {},
   "outputs": [
    {
     "data": {
      "text/html": [
       "<div>\n",
       "<style scoped>\n",
       "    .dataframe tbody tr th:only-of-type {\n",
       "        vertical-align: middle;\n",
       "    }\n",
       "\n",
       "    .dataframe tbody tr th {\n",
       "        vertical-align: top;\n",
       "    }\n",
       "\n",
       "    .dataframe thead th {\n",
       "        text-align: right;\n",
       "    }\n",
       "</style>\n",
       "<table border=\"1\" class=\"dataframe\">\n",
       "  <thead>\n",
       "    <tr style=\"text-align: right;\">\n",
       "      <th></th>\n",
       "      <th>species</th>\n",
       "      <th>island</th>\n",
       "      <th>sex</th>\n",
       "      <th>BL_mm(0-1)</th>\n",
       "      <th>BD_mm(0-1)</th>\n",
       "      <th>FL_mm(0-1)</th>\n",
       "      <th>BM_kg(0-1)</th>\n",
       "      <th>species_ctg</th>\n",
       "      <th>island_ctg</th>\n",
       "      <th>binary_sex</th>\n",
       "    </tr>\n",
       "  </thead>\n",
       "  <tbody>\n",
       "    <tr>\n",
       "      <th>0</th>\n",
       "      <td>Adelie</td>\n",
       "      <td>Torgersen</td>\n",
       "      <td>male</td>\n",
       "      <td>0.656040</td>\n",
       "      <td>0.869767</td>\n",
       "      <td>0.783550</td>\n",
       "      <td>0.595238</td>\n",
       "      <td>1</td>\n",
       "      <td>3</td>\n",
       "      <td>1</td>\n",
       "    </tr>\n",
       "    <tr>\n",
       "      <th>1</th>\n",
       "      <td>Adelie</td>\n",
       "      <td>Torgersen</td>\n",
       "      <td>female</td>\n",
       "      <td>0.662752</td>\n",
       "      <td>0.809302</td>\n",
       "      <td>0.805195</td>\n",
       "      <td>0.603175</td>\n",
       "      <td>1</td>\n",
       "      <td>3</td>\n",
       "      <td>-1</td>\n",
       "    </tr>\n",
       "    <tr>\n",
       "      <th>2</th>\n",
       "      <td>Adelie</td>\n",
       "      <td>Torgersen</td>\n",
       "      <td>female</td>\n",
       "      <td>0.676174</td>\n",
       "      <td>0.837209</td>\n",
       "      <td>0.844156</td>\n",
       "      <td>0.515873</td>\n",
       "      <td>1</td>\n",
       "      <td>3</td>\n",
       "      <td>-1</td>\n",
       "    </tr>\n",
       "    <tr>\n",
       "      <th>3</th>\n",
       "      <td>Adelie</td>\n",
       "      <td>Torgersen</td>\n",
       "      <td>female</td>\n",
       "      <td>0.615772</td>\n",
       "      <td>0.897674</td>\n",
       "      <td>0.835498</td>\n",
       "      <td>0.547619</td>\n",
       "      <td>1</td>\n",
       "      <td>3</td>\n",
       "      <td>-1</td>\n",
       "    </tr>\n",
       "    <tr>\n",
       "      <th>4</th>\n",
       "      <td>Adelie</td>\n",
       "      <td>Torgersen</td>\n",
       "      <td>male</td>\n",
       "      <td>0.659396</td>\n",
       "      <td>0.958140</td>\n",
       "      <td>0.822511</td>\n",
       "      <td>0.579365</td>\n",
       "      <td>1</td>\n",
       "      <td>3</td>\n",
       "      <td>1</td>\n",
       "    </tr>\n",
       "  </tbody>\n",
       "</table>\n",
       "</div>"
      ],
      "text/plain": [
       "  species     island     sex  BL_mm(0-1)  BD_mm(0-1)  FL_mm(0-1)  BM_kg(0-1)  \\\n",
       "0  Adelie  Torgersen    male    0.656040    0.869767    0.783550    0.595238   \n",
       "1  Adelie  Torgersen  female    0.662752    0.809302    0.805195    0.603175   \n",
       "2  Adelie  Torgersen  female    0.676174    0.837209    0.844156    0.515873   \n",
       "3  Adelie  Torgersen  female    0.615772    0.897674    0.835498    0.547619   \n",
       "4  Adelie  Torgersen    male    0.659396    0.958140    0.822511    0.579365   \n",
       "\n",
       "   species_ctg  island_ctg  binary_sex  \n",
       "0            1           3           1  \n",
       "1            1           3          -1  \n",
       "2            1           3          -1  \n",
       "3            1           3          -1  \n",
       "4            1           3           1  "
      ]
     },
     "execution_count": 40,
     "metadata": {},
     "output_type": "execute_result"
    }
   ],
   "source": [
    "df3.head()"
   ]
  },
  {
   "cell_type": "code",
   "execution_count": 41,
   "id": "9b2ec3d7",
   "metadata": {},
   "outputs": [],
   "source": [
    "second_column = df3.pop('species_ctg')\n",
    "df3.insert(1, 'species_ctg', second_column)\n",
    "fourth_column = df3.pop('island_ctg')\n",
    "df3.insert(3, 'island_ctg', fourth_column)\n",
    "nineth_column = df3.pop('sex')\n",
    "df3.insert(8, 'sex', nineth_column)"
   ]
  },
  {
   "cell_type": "code",
   "execution_count": 42,
   "id": "6adfd710",
   "metadata": {},
   "outputs": [
    {
     "data": {
      "text/html": [
       "<div>\n",
       "<style scoped>\n",
       "    .dataframe tbody tr th:only-of-type {\n",
       "        vertical-align: middle;\n",
       "    }\n",
       "\n",
       "    .dataframe tbody tr th {\n",
       "        vertical-align: top;\n",
       "    }\n",
       "\n",
       "    .dataframe thead th {\n",
       "        text-align: right;\n",
       "    }\n",
       "</style>\n",
       "<table border=\"1\" class=\"dataframe\">\n",
       "  <thead>\n",
       "    <tr style=\"text-align: right;\">\n",
       "      <th></th>\n",
       "      <th>species</th>\n",
       "      <th>species_ctg</th>\n",
       "      <th>island</th>\n",
       "      <th>island_ctg</th>\n",
       "      <th>BL_mm(0-1)</th>\n",
       "      <th>BD_mm(0-1)</th>\n",
       "      <th>FL_mm(0-1)</th>\n",
       "      <th>BM_kg(0-1)</th>\n",
       "      <th>sex</th>\n",
       "      <th>binary_sex</th>\n",
       "    </tr>\n",
       "  </thead>\n",
       "  <tbody>\n",
       "    <tr>\n",
       "      <th>0</th>\n",
       "      <td>Adelie</td>\n",
       "      <td>1</td>\n",
       "      <td>Torgersen</td>\n",
       "      <td>3</td>\n",
       "      <td>0.656040</td>\n",
       "      <td>0.869767</td>\n",
       "      <td>0.783550</td>\n",
       "      <td>0.595238</td>\n",
       "      <td>male</td>\n",
       "      <td>1</td>\n",
       "    </tr>\n",
       "    <tr>\n",
       "      <th>1</th>\n",
       "      <td>Adelie</td>\n",
       "      <td>1</td>\n",
       "      <td>Torgersen</td>\n",
       "      <td>3</td>\n",
       "      <td>0.662752</td>\n",
       "      <td>0.809302</td>\n",
       "      <td>0.805195</td>\n",
       "      <td>0.603175</td>\n",
       "      <td>female</td>\n",
       "      <td>-1</td>\n",
       "    </tr>\n",
       "    <tr>\n",
       "      <th>2</th>\n",
       "      <td>Adelie</td>\n",
       "      <td>1</td>\n",
       "      <td>Torgersen</td>\n",
       "      <td>3</td>\n",
       "      <td>0.676174</td>\n",
       "      <td>0.837209</td>\n",
       "      <td>0.844156</td>\n",
       "      <td>0.515873</td>\n",
       "      <td>female</td>\n",
       "      <td>-1</td>\n",
       "    </tr>\n",
       "    <tr>\n",
       "      <th>3</th>\n",
       "      <td>Adelie</td>\n",
       "      <td>1</td>\n",
       "      <td>Torgersen</td>\n",
       "      <td>3</td>\n",
       "      <td>0.615772</td>\n",
       "      <td>0.897674</td>\n",
       "      <td>0.835498</td>\n",
       "      <td>0.547619</td>\n",
       "      <td>female</td>\n",
       "      <td>-1</td>\n",
       "    </tr>\n",
       "    <tr>\n",
       "      <th>4</th>\n",
       "      <td>Adelie</td>\n",
       "      <td>1</td>\n",
       "      <td>Torgersen</td>\n",
       "      <td>3</td>\n",
       "      <td>0.659396</td>\n",
       "      <td>0.958140</td>\n",
       "      <td>0.822511</td>\n",
       "      <td>0.579365</td>\n",
       "      <td>male</td>\n",
       "      <td>1</td>\n",
       "    </tr>\n",
       "  </tbody>\n",
       "</table>\n",
       "</div>"
      ],
      "text/plain": [
       "  species  species_ctg     island  island_ctg  BL_mm(0-1)  BD_mm(0-1)  \\\n",
       "0  Adelie            1  Torgersen           3    0.656040    0.869767   \n",
       "1  Adelie            1  Torgersen           3    0.662752    0.809302   \n",
       "2  Adelie            1  Torgersen           3    0.676174    0.837209   \n",
       "3  Adelie            1  Torgersen           3    0.615772    0.897674   \n",
       "4  Adelie            1  Torgersen           3    0.659396    0.958140   \n",
       "\n",
       "   FL_mm(0-1)  BM_kg(0-1)     sex  binary_sex  \n",
       "0    0.783550    0.595238    male           1  \n",
       "1    0.805195    0.603175  female          -1  \n",
       "2    0.844156    0.515873  female          -1  \n",
       "3    0.835498    0.547619  female          -1  \n",
       "4    0.822511    0.579365    male           1  "
      ]
     },
     "execution_count": 42,
     "metadata": {},
     "output_type": "execute_result"
    }
   ],
   "source": [
    "df3.head()"
   ]
  },
  {
   "cell_type": "code",
   "execution_count": 43,
   "id": "590d106c",
   "metadata": {},
   "outputs": [
    {
     "data": {
      "text/html": [
       "<div>\n",
       "<style scoped>\n",
       "    .dataframe tbody tr th:only-of-type {\n",
       "        vertical-align: middle;\n",
       "    }\n",
       "\n",
       "    .dataframe tbody tr th {\n",
       "        vertical-align: top;\n",
       "    }\n",
       "\n",
       "    .dataframe thead th {\n",
       "        text-align: right;\n",
       "    }\n",
       "</style>\n",
       "<table border=\"1\" class=\"dataframe\">\n",
       "  <thead>\n",
       "    <tr style=\"text-align: right;\">\n",
       "      <th></th>\n",
       "      <th>species_ctg</th>\n",
       "      <th>island_ctg</th>\n",
       "      <th>BL_mm(0-1)</th>\n",
       "      <th>BD_mm(0-1)</th>\n",
       "      <th>FL_mm(0-1)</th>\n",
       "      <th>BM_kg(0-1)</th>\n",
       "      <th>binary_sex</th>\n",
       "    </tr>\n",
       "  </thead>\n",
       "  <tbody>\n",
       "    <tr>\n",
       "      <th>0</th>\n",
       "      <td>1</td>\n",
       "      <td>3</td>\n",
       "      <td>0.656040</td>\n",
       "      <td>0.869767</td>\n",
       "      <td>0.783550</td>\n",
       "      <td>0.595238</td>\n",
       "      <td>1</td>\n",
       "    </tr>\n",
       "    <tr>\n",
       "      <th>1</th>\n",
       "      <td>1</td>\n",
       "      <td>3</td>\n",
       "      <td>0.662752</td>\n",
       "      <td>0.809302</td>\n",
       "      <td>0.805195</td>\n",
       "      <td>0.603175</td>\n",
       "      <td>-1</td>\n",
       "    </tr>\n",
       "    <tr>\n",
       "      <th>2</th>\n",
       "      <td>1</td>\n",
       "      <td>3</td>\n",
       "      <td>0.676174</td>\n",
       "      <td>0.837209</td>\n",
       "      <td>0.844156</td>\n",
       "      <td>0.515873</td>\n",
       "      <td>-1</td>\n",
       "    </tr>\n",
       "    <tr>\n",
       "      <th>3</th>\n",
       "      <td>1</td>\n",
       "      <td>3</td>\n",
       "      <td>0.615772</td>\n",
       "      <td>0.897674</td>\n",
       "      <td>0.835498</td>\n",
       "      <td>0.547619</td>\n",
       "      <td>-1</td>\n",
       "    </tr>\n",
       "    <tr>\n",
       "      <th>4</th>\n",
       "      <td>1</td>\n",
       "      <td>3</td>\n",
       "      <td>0.659396</td>\n",
       "      <td>0.958140</td>\n",
       "      <td>0.822511</td>\n",
       "      <td>0.579365</td>\n",
       "      <td>1</td>\n",
       "    </tr>\n",
       "  </tbody>\n",
       "</table>\n",
       "</div>"
      ],
      "text/plain": [
       "   species_ctg  island_ctg  BL_mm(0-1)  BD_mm(0-1)  FL_mm(0-1)  BM_kg(0-1)  \\\n",
       "0            1           3    0.656040    0.869767    0.783550    0.595238   \n",
       "1            1           3    0.662752    0.809302    0.805195    0.603175   \n",
       "2            1           3    0.676174    0.837209    0.844156    0.515873   \n",
       "3            1           3    0.615772    0.897674    0.835498    0.547619   \n",
       "4            1           3    0.659396    0.958140    0.822511    0.579365   \n",
       "\n",
       "   binary_sex  \n",
       "0           1  \n",
       "1          -1  \n",
       "2          -1  \n",
       "3          -1  \n",
       "4           1  "
      ]
     },
     "execution_count": 43,
     "metadata": {},
     "output_type": "execute_result"
    }
   ],
   "source": [
    "df3_logR = df3.drop(['species','island','sex'], axis=1)\n",
    "df3_logR.head()"
   ]
  },
  {
   "cell_type": "code",
   "execution_count": 44,
   "id": "b6e51d8a",
   "metadata": {},
   "outputs": [
    {
     "data": {
      "text/html": [
       "<div>\n",
       "<style scoped>\n",
       "    .dataframe tbody tr th:only-of-type {\n",
       "        vertical-align: middle;\n",
       "    }\n",
       "\n",
       "    .dataframe tbody tr th {\n",
       "        vertical-align: top;\n",
       "    }\n",
       "\n",
       "    .dataframe thead th {\n",
       "        text-align: right;\n",
       "    }\n",
       "</style>\n",
       "<table border=\"1\" class=\"dataframe\">\n",
       "  <thead>\n",
       "    <tr style=\"text-align: right;\">\n",
       "      <th></th>\n",
       "      <th>species_ctg</th>\n",
       "      <th>island_ctg</th>\n",
       "      <th>BL_mm(0-1)</th>\n",
       "      <th>BD_mm(0-1)</th>\n",
       "      <th>FL_mm(0-1)</th>\n",
       "      <th>BM_kg(0-1)</th>\n",
       "      <th>binary_sex</th>\n",
       "    </tr>\n",
       "  </thead>\n",
       "  <tbody>\n",
       "    <tr>\n",
       "      <th>91</th>\n",
       "      <td>1</td>\n",
       "      <td>2</td>\n",
       "      <td>0.676174</td>\n",
       "      <td>0.860465</td>\n",
       "      <td>0.848485</td>\n",
       "      <td>0.690476</td>\n",
       "      <td>1</td>\n",
       "    </tr>\n",
       "    <tr>\n",
       "      <th>100</th>\n",
       "      <td>1</td>\n",
       "      <td>1</td>\n",
       "      <td>0.647651</td>\n",
       "      <td>0.800000</td>\n",
       "      <td>0.861472</td>\n",
       "      <td>0.595238</td>\n",
       "      <td>-1</td>\n",
       "    </tr>\n",
       "    <tr>\n",
       "      <th>324</th>\n",
       "      <td>3</td>\n",
       "      <td>2</td>\n",
       "      <td>0.765101</td>\n",
       "      <td>0.902326</td>\n",
       "      <td>0.839827</td>\n",
       "      <td>0.559524</td>\n",
       "      <td>-1</td>\n",
       "    </tr>\n",
       "    <tr>\n",
       "      <th>182</th>\n",
       "      <td>2</td>\n",
       "      <td>1</td>\n",
       "      <td>0.744966</td>\n",
       "      <td>0.804651</td>\n",
       "      <td>0.948052</td>\n",
       "      <td>0.833333</td>\n",
       "      <td>1</td>\n",
       "    </tr>\n",
       "    <tr>\n",
       "      <th>135</th>\n",
       "      <td>1</td>\n",
       "      <td>2</td>\n",
       "      <td>0.681208</td>\n",
       "      <td>0.800000</td>\n",
       "      <td>0.809524</td>\n",
       "      <td>0.551587</td>\n",
       "      <td>1</td>\n",
       "    </tr>\n",
       "  </tbody>\n",
       "</table>\n",
       "</div>"
      ],
      "text/plain": [
       "     species_ctg  island_ctg  BL_mm(0-1)  BD_mm(0-1)  FL_mm(0-1)  BM_kg(0-1)  \\\n",
       "91             1           2    0.676174    0.860465    0.848485    0.690476   \n",
       "100            1           1    0.647651    0.800000    0.861472    0.595238   \n",
       "324            3           2    0.765101    0.902326    0.839827    0.559524   \n",
       "182            2           1    0.744966    0.804651    0.948052    0.833333   \n",
       "135            1           2    0.681208    0.800000    0.809524    0.551587   \n",
       "\n",
       "     binary_sex  \n",
       "91            1  \n",
       "100          -1  \n",
       "324          -1  \n",
       "182           1  \n",
       "135           1  "
      ]
     },
     "execution_count": 44,
     "metadata": {},
     "output_type": "execute_result"
    }
   ],
   "source": [
    "df3_logR = df3_logR.sample(frac = 1) # This is how we shuffle the dataframe. This is very necessary\n",
    "df3_logR.head()"
   ]
  },
  {
   "cell_type": "markdown",
   "id": "54e51a8c",
   "metadata": {},
   "source": [
    "X = FEATURES\n",
    "\n",
    "y = TARGET(i.e. \"BINARY_SEX\")"
   ]
  },
  {
   "cell_type": "code",
   "execution_count": 45,
   "id": "ac5bd529",
   "metadata": {},
   "outputs": [],
   "source": [
    "X = df3_logR.drop(['binary_sex'], axis=1)\n",
    "y = df3_logR['binary_sex']"
   ]
  },
  {
   "cell_type": "code",
   "execution_count": 46,
   "id": "2370d1d9",
   "metadata": {},
   "outputs": [
    {
     "data": {
      "text/html": [
       "<div>\n",
       "<style scoped>\n",
       "    .dataframe tbody tr th:only-of-type {\n",
       "        vertical-align: middle;\n",
       "    }\n",
       "\n",
       "    .dataframe tbody tr th {\n",
       "        vertical-align: top;\n",
       "    }\n",
       "\n",
       "    .dataframe thead th {\n",
       "        text-align: right;\n",
       "    }\n",
       "</style>\n",
       "<table border=\"1\" class=\"dataframe\">\n",
       "  <thead>\n",
       "    <tr style=\"text-align: right;\">\n",
       "      <th></th>\n",
       "      <th>species_ctg</th>\n",
       "      <th>island_ctg</th>\n",
       "      <th>BL_mm(0-1)</th>\n",
       "      <th>BD_mm(0-1)</th>\n",
       "      <th>FL_mm(0-1)</th>\n",
       "      <th>BM_kg(0-1)</th>\n",
       "    </tr>\n",
       "  </thead>\n",
       "  <tbody>\n",
       "    <tr>\n",
       "      <th>174</th>\n",
       "      <td>2</td>\n",
       "      <td>1</td>\n",
       "      <td>0.838926</td>\n",
       "      <td>0.711628</td>\n",
       "      <td>0.952381</td>\n",
       "      <td>0.880952</td>\n",
       "    </tr>\n",
       "    <tr>\n",
       "      <th>250</th>\n",
       "      <td>2</td>\n",
       "      <td>1</td>\n",
       "      <td>0.895973</td>\n",
       "      <td>0.734884</td>\n",
       "      <td>0.948052</td>\n",
       "      <td>0.873016</td>\n",
       "    </tr>\n",
       "    <tr>\n",
       "      <th>270</th>\n",
       "      <td>3</td>\n",
       "      <td>2</td>\n",
       "      <td>0.758389</td>\n",
       "      <td>0.827907</td>\n",
       "      <td>0.857143</td>\n",
       "      <td>0.626984</td>\n",
       "    </tr>\n",
       "    <tr>\n",
       "      <th>203</th>\n",
       "      <td>2</td>\n",
       "      <td>1</td>\n",
       "      <td>0.724832</td>\n",
       "      <td>0.674419</td>\n",
       "      <td>0.900433</td>\n",
       "      <td>0.706349</td>\n",
       "    </tr>\n",
       "    <tr>\n",
       "      <th>307</th>\n",
       "      <td>3</td>\n",
       "      <td>2</td>\n",
       "      <td>0.854027</td>\n",
       "      <td>0.888372</td>\n",
       "      <td>0.848485</td>\n",
       "      <td>0.563492</td>\n",
       "    </tr>\n",
       "  </tbody>\n",
       "</table>\n",
       "</div>"
      ],
      "text/plain": [
       "     species_ctg  island_ctg  BL_mm(0-1)  BD_mm(0-1)  FL_mm(0-1)  BM_kg(0-1)\n",
       "174            2           1    0.838926    0.711628    0.952381    0.880952\n",
       "250            2           1    0.895973    0.734884    0.948052    0.873016\n",
       "270            3           2    0.758389    0.827907    0.857143    0.626984\n",
       "203            2           1    0.724832    0.674419    0.900433    0.706349\n",
       "307            3           2    0.854027    0.888372    0.848485    0.563492"
      ]
     },
     "execution_count": 46,
     "metadata": {},
     "output_type": "execute_result"
    }
   ],
   "source": [
    "X.tail()"
   ]
  },
  {
   "cell_type": "code",
   "execution_count": 47,
   "id": "26f89758",
   "metadata": {},
   "outputs": [
    {
     "data": {
      "text/plain": [
       "(333, 6)"
      ]
     },
     "execution_count": 47,
     "metadata": {},
     "output_type": "execute_result"
    }
   ],
   "source": [
    "X.shape"
   ]
  },
  {
   "cell_type": "code",
   "execution_count": 48,
   "id": "bda9edc0",
   "metadata": {},
   "outputs": [
    {
     "data": {
      "text/plain": [
       "174    1\n",
       "250    1\n",
       "270   -1\n",
       "203   -1\n",
       "307    1\n",
       "Name: binary_sex, dtype: int64"
      ]
     },
     "execution_count": 48,
     "metadata": {},
     "output_type": "execute_result"
    }
   ],
   "source": [
    "y.tail()"
   ]
  },
  {
   "cell_type": "code",
   "execution_count": 49,
   "id": "3104592b",
   "metadata": {},
   "outputs": [
    {
     "data": {
      "text/plain": [
       "(333,)"
      ]
     },
     "execution_count": 49,
     "metadata": {},
     "output_type": "execute_result"
    }
   ],
   "source": [
    "y.shape"
   ]
  },
  {
   "cell_type": "markdown",
   "id": "78405195",
   "metadata": {},
   "source": [
    "CREATING TRAINING AND TESTING DATASETS (TRAINING = 80%, TESTING = 20%)\n",
    "\n",
    "NOTE:- WE USE SLICING BELOW FOR TRAIN TEST SPLIT BECAUSE WE HAVE \"SHUFFLED\" OUR DATASET"
   ]
  },
  {
   "cell_type": "code",
   "execution_count": 50,
   "id": "27687663",
   "metadata": {},
   "outputs": [
    {
     "name": "stdout",
     "output_type": "stream",
     "text": [
      "X_train shape = (267, 6)\n",
      "y_train shape = (267,)\n",
      "X_test shape = (66, 6)\n",
      "y_test shape = (66,)\n"
     ]
    }
   ],
   "source": [
    "X_train = X[0:267]\n",
    "y_train = y[0:267]\n",
    "X_test = X[267:]\n",
    "y_test = y[267:]\n",
    "\n",
    "print(\"X_train shape =\", X_train.shape)\n",
    "print(\"y_train shape =\", y_train.shape)\n",
    "print(\"X_test shape =\", X_test.shape)\n",
    "print(\"y_test shape =\", y_test.shape)"
   ]
  },
  {
   "cell_type": "markdown",
   "id": "d83540bd",
   "metadata": {},
   "source": [
    "WE CREATE A NUMERICAL MATRIX OUT OF EACH DATASETS BELOW FOR COMPUTATION IN LOGISTIC REGRESSION MODEL"
   ]
  },
  {
   "cell_type": "code",
   "execution_count": 51,
   "id": "79cc1140",
   "metadata": {},
   "outputs": [
    {
     "name": "stdout",
     "output_type": "stream",
     "text": [
      "X_train_matrix shape = (267, 6)\n",
      "y_train_matrix shape = (267,)\n",
      "X_test_matrix shape = (66, 6)\n",
      "y_test_matrix shape = (66,)\n"
     ]
    }
   ],
   "source": [
    "X_train_matrix = X_train.values\n",
    "y_train_matrix = y_train.values\n",
    "X_test_matrix = X_test.values\n",
    "y_test_matrix = y_test.values\n",
    "\n",
    "print(\"X_train_matrix shape =\", X_train_matrix.shape)\n",
    "print(\"y_train_matrix shape =\", y_train_matrix.shape)\n",
    "print(\"X_test_matrix shape =\", X_test_matrix.shape)\n",
    "print(\"y_test_matrix shape =\", y_test_matrix.shape)"
   ]
  },
  {
   "cell_type": "markdown",
   "id": "f27af3f8",
   "metadata": {},
   "source": [
    "NOW WE TAKE TRANSPOSE OF EACH MATRIX ABOVE TO SIMPLIFY OUR CALCULATIONS DURING THE MODEL DEVELOPMENT"
   ]
  },
  {
   "cell_type": "code",
   "execution_count": 52,
   "id": "7831ceca",
   "metadata": {},
   "outputs": [
    {
     "name": "stdout",
     "output_type": "stream",
     "text": [
      "X_train_matrix shape = (6, 267)\n",
      "y_train_matrix shape = (1, 267)\n",
      "X_test_matrix shape = (6, 66)\n",
      "y_test_matrix shape = (1, 66)\n"
     ]
    }
   ],
   "source": [
    "X_train_matrix = X_train_matrix.T\n",
    "y_train_matrix = y_train_matrix.reshape(1, X_train_matrix.shape[1])\n",
    "X_test_matrix = X_test_matrix.T\n",
    "y_test_matrix = y_test_matrix.reshape(1, X_test_matrix.shape[1])\n",
    "\n",
    "print(\"X_train_matrix shape =\", X_train_matrix.shape)\n",
    "print(\"y_train_matrix shape =\", y_train_matrix.shape)\n",
    "print(\"X_test_matrix shape =\", X_test_matrix.shape)\n",
    "print(\"y_test_matrix shape =\", y_test_matrix.shape)"
   ]
  },
  {
   "cell_type": "markdown",
   "id": "821e3366",
   "metadata": {},
   "source": [
    "# IMPLEMENTING LOGISTIC REGRESSION MODEL"
   ]
  },
  {
   "cell_type": "code",
   "execution_count": 53,
   "id": "da97114b",
   "metadata": {},
   "outputs": [],
   "source": [
    "class LogitRegression:\n",
    "    def __init__(self):\n",
    "        self.learning_rate = 1e-6\n",
    "        self.iterations = 10000\n",
    "        self.W = weights = np.zeros(6) # 6 zeros for 6 feature columns\n",
    "        self.B = bias = 0\n",
    "        \n",
    "    def fit(self, X, y):\n",
    "        N = X.shape[0]\n",
    "        f = X.shape[1]\n",
    "        cost_list = []\n",
    "        for i in range(self.iterations):\n",
    "            self.gradient_decent(X, y)\n",
    "            c_val = self.cost(X, y)\n",
    "            print(c_val)\n",
    "        print(\"Weights = \",self.W)\n",
    "        print(\"Bias = \",self.B)\n",
    "        return cost_list\n",
    "        \n",
    "    def sigmoid(self, X):\n",
    "        sigmoid = 1/(1 + np.exp(-X))\n",
    "        return sigmoid\n",
    "    \n",
    "    def predict(self, X):\n",
    "        products = np.dot(X, self.W) + self.B\n",
    "        sig = self.sigmoid(products)\n",
    "        \n",
    "        if sig.all() >= 0.5:\n",
    "            y_predicted = 1\n",
    "        elif sig.all() < 0.5:\n",
    "            y_predicted = 0\n",
    "        return y_predicted\n",
    "       \n",
    "    def cost(self, X, y):\n",
    "        N = X.shape[0]\n",
    "        f = X.shape[1]\n",
    "        products = np.dot(X, self.W) + self.B\n",
    "        sig = self.sigmoid(products)\n",
    "        \n",
    "        logit_loss = (-1/N)*np.sum(y*np.log(sig)) + ((1-y)*np.log(1-sig))   \n",
    "        return logit_loss\n",
    "\n",
    "                        \n",
    "    def gradient_decent(self, X, y):\n",
    "        N = X.shape[0]\n",
    "        f = X.shape[1]\n",
    "                                   \n",
    "        products = np.dot(X, self.W) + self.B\n",
    "        sig = self.sigmoid(products)\n",
    "                                   \n",
    "        logit_gradient = (1/N)*(X.T)*(sig - y)\n",
    "                                   \n",
    "        delta = sig - y\n",
    "        dW = np.dot(X.T, delta)/N\n",
    "        dB = np.sum(delta)/N\n",
    "        \n",
    "        self.W = self.W - self.learning_rate*dW.T\n",
    "        self.B = self.B - self.learning_rate*dB.T\n",
    "    \n",
    "    def accuracy(self, X, y):\n",
    "        y_predicted = self.predict(X)\n",
    "        acc = (np.sum(np.absolute(y - y_predicted))/y.shape[0])*100\n",
    "        return acc"
   ]
  },
  {
   "cell_type": "code",
   "execution_count": 54,
   "id": "b982ac7d",
   "metadata": {},
   "outputs": [],
   "source": [
    "model = LogitRegression()"
   ]
  },
  {
   "cell_type": "code",
   "execution_count": 55,
   "id": "3e92917b",
   "metadata": {},
   "outputs": [],
   "source": [
    "# cost_values = model.fit(X_train, y_train)\n",
    "# cost_values.head()"
   ]
  },
  {
   "cell_type": "code",
   "execution_count": 56,
   "id": "ab84d6bf",
   "metadata": {},
   "outputs": [
    {
     "name": "stdout",
     "output_type": "stream",
     "text": [
      "Accuracy =  93.93939393939394\n"
     ]
    }
   ],
   "source": [
    "print(\"Accuracy = \", model.accuracy(X_test, y_test))"
   ]
  },
  {
   "cell_type": "markdown",
   "id": "4c99954a",
   "metadata": {},
   "source": [
    "# REFERENCES"
   ]
  },
  {
   "cell_type": "code",
   "execution_count": 57,
   "id": "a8fd005f",
   "metadata": {},
   "outputs": [],
   "source": [
    "# CSE 574 Assignment 1\n",
    "# https://www.geeksforgeeks.org/how-to-convert-pandas-dataframe-into-a-list/\n",
    "# https://www.geeksforgeeks.org/how-to-drop-one-or-multiple-columns-in-pandas-dataframe/\n",
    "# https://www.geeksforgeeks.org/how-to-move-a-column-to-first-position-in-pandas-dataframe/\n",
    "# https://towardsdatascience.com/print-numpy-array-without-truncation-2d8fc97ca418\n",
    "# https://www.geeksforgeeks.org/pandas-how-to-shuffle-a-dataframe-rows/\n",
    "# Some PANDAS functions are known to me, learnt in EAS 595(Fall 2021)"
   ]
  }
 ],
 "metadata": {
  "kernelspec": {
   "display_name": "Python 3 (ipykernel)",
   "language": "python",
   "name": "python3"
  },
  "language_info": {
   "codemirror_mode": {
    "name": "ipython",
    "version": 3
   },
   "file_extension": ".py",
   "mimetype": "text/x-python",
   "name": "python",
   "nbconvert_exporter": "python",
   "pygments_lexer": "ipython3",
   "version": "3.9.7"
  }
 },
 "nbformat": 4,
 "nbformat_minor": 5
}
